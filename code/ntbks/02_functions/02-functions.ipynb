{
 "cells": [
  {
   "cell_type": "markdown",
   "metadata": {},
   "source": [
    "## 2 Functions in python\n",
    "<br>\n",
    "Some observations about functions in Python: <br> "
   ]
  },
  {
   "cell_type": "markdown",
   "metadata": {},
   "source": [
    "- Syntax for function definitions: keyword __def__ followed by the function name and parentheses with a colon at the end\n",
    "- parameters / arguments need to be placed inside the parentheses\n",
    "- the code follows after the colon\n",
    "- __indentation__: the code block must be indented (1 tab space)\n",
    "- returning something is optional in Python; putting simply __return__ at the end is equivalent to __return None__"
   ]
  },
  {
   "cell_type": "markdown",
   "metadata": {},
   "source": [
    "## 2.1 Examples of functions in python\n",
    "Functions are the core of programming workflows in python. They comprise routines which are reused throughout your application and can contain variable declarations, statements or other routines. <br>\n",
    "A simple example would be a function containing just a print statement:"
   ]
  },
  {
   "cell_type": "code",
   "execution_count": 1,
   "metadata": {},
   "outputs": [],
   "source": [
    "def printme(): \n",
    "    print('hard coded print')"
   ]
  },
  {
   "cell_type": "code",
   "execution_count": 2,
   "metadata": {
    "scrolled": true
   },
   "outputs": [
    {
     "name": "stdout",
     "output_type": "stream",
     "text": [
      "hard coded print\n"
     ]
    }
   ],
   "source": [
    "printme()# calling a function"
   ]
  },
  {
   "cell_type": "code",
   "execution_count": 3,
   "metadata": {},
   "outputs": [],
   "source": [
    "def printme(string): #same function name with a single parameter\n",
    "    print(string) "
   ]
  },
  {
   "cell_type": "code",
   "execution_count": 4,
   "metadata": {},
   "outputs": [
    {
     "name": "stdout",
     "output_type": "stream",
     "text": [
      "not so hard coded anymore\n"
     ]
    }
   ],
   "source": [
    "printme('not so hard coded anymore') "
   ]
  },
  {
   "cell_type": "code",
   "execution_count": 5,
   "metadata": {},
   "outputs": [],
   "source": [
    "def polynomial(x, a, b, c, d): # for numerical python the convention is array then parameters\n",
    "    return a**3*x+b**2*x+c*x+d # a return statement can contain every possible python object. even multiple ones"
   ]
  },
  {
   "cell_type": "markdown",
   "metadata": {},
   "source": [
    "## 2.1.1 Passing by reference\n",
    "In Python all arguments are passed by reference, meaning that values of variables outside the function are changed when referenced to inside the function. <br>\n",
    "An example:"
   ]
  },
  {
   "cell_type": "code",
   "execution_count": 6,
   "metadata": {},
   "outputs": [],
   "source": [
    "mylist = [10, 50, 1000]\n",
    "\n",
    "def changesomething (var):\n",
    "    var[1] = 500"
   ]
  },
  {
   "cell_type": "code",
   "execution_count": 7,
   "metadata": {},
   "outputs": [
    {
     "name": "stdout",
     "output_type": "stream",
     "text": [
      "[10, 50, 1000]\n",
      "[10, 500, 1000]\n"
     ]
    }
   ],
   "source": [
    "print(mylist)#print list before calling changesomething\n",
    "changesomething(mylist)\n",
    "print(mylist)#list after the function is called"
   ]
  },
  {
   "cell_type": "markdown",
   "metadata": {},
   "source": [
    "As visible, the value of the second element in the list was manipulated within the function and the effect is permanent."
   ]
  },
  {
   "cell_type": "markdown",
   "metadata": {},
   "source": [
    "## 2.1.2 Function arguments\n",
    "There are four types of function arguments:\n",
    "- Required arguments\n",
    "- Keyword arguments\n",
    "- Default arguments\n",
    "- Variable-length arguments\n",
    "\n",
    "Required arguments are the ones which must be passed (see function __changesomething__ above). <br>\n",
    "Let's see some examples as to what the other three indicate:"
   ]
  },
  {
   "cell_type": "markdown",
   "metadata": {},
   "source": [
    "__Keyword arguments__:"
   ]
  },
  {
   "cell_type": "code",
   "execution_count": 8,
   "metadata": {},
   "outputs": [],
   "source": [
    "# Function definition with keyword args\n",
    "def printmore( name, age ):\n",
    "\n",
    "   print (\"Name: \", name)\n",
    "   print (\"Age \", age)\n",
    "   return"
   ]
  },
  {
   "cell_type": "code",
   "execution_count": 9,
   "metadata": {},
   "outputs": [
    {
     "name": "stdout",
     "output_type": "stream",
     "text": [
      "Name:  Andreas\n",
      "Age  23\n"
     ]
    }
   ],
   "source": [
    "# calling the function is allowed while reversing the order\n",
    "printmore( age = 23, name = \"Andreas\" )"
   ]
  },
  {
   "cell_type": "markdown",
   "metadata": {},
   "source": [
    "__Note__: The Python Interpreter associates each argument with its corresponding parameter by its name. The order therefore is irrelevant."
   ]
  },
  {
   "cell_type": "markdown",
   "metadata": {},
   "source": [
    "__Default arguments__:"
   ]
  },
  {
   "cell_type": "code",
   "execution_count": 10,
   "metadata": {},
   "outputs": [],
   "source": [
    "# Function definition with default args\n",
    "def printmore_def_arg( name, age = 25 ):\n",
    "\n",
    "    print (\"Name: \", name)\n",
    "    print (\"Age \", age)\n",
    "    return"
   ]
  },
  {
   "cell_type": "code",
   "execution_count": 11,
   "metadata": {},
   "outputs": [
    {
     "name": "stdout",
     "output_type": "stream",
     "text": [
      "Name:  Mike\n",
      "Age  25\n"
     ]
    }
   ],
   "source": [
    "printmore_def_arg('Mike') # if no argument is passed for age, the default argument is assumed"
   ]
  },
  {
   "cell_type": "markdown",
   "metadata": {},
   "source": [
    "__Variable-length arguments__:"
   ]
  },
  {
   "cell_type": "code",
   "execution_count": 35,
   "metadata": {},
   "outputs": [
    {
     "name": "stdout",
     "output_type": "stream",
     "text": [
      "\n",
      "def arg: \n",
      "1\n",
      "var args: \n",
      "\n",
      "def arg: \n",
      "2\n",
      "var args: \n",
      "3\n",
      "4\n"
     ]
    }
   ],
   "source": [
    "# Function definition with a variable-length argument\n",
    "def printinfo( arg1, *vartuple ):\n",
    "    \n",
    "    print (\"\\ndef arg: \")\n",
    "    print (arg1)\n",
    "   \n",
    "    print ('var args: ')\n",
    "    for v in vartuple:\n",
    "        print (v)\n",
    "    return\n",
    "\n",
    "# Now you can call printinfo function\n",
    "printinfo( 1 )\n",
    "printinfo( 2, 3, 4 )"
   ]
  },
  {
   "cell_type": "markdown",
   "metadata": {},
   "source": [
    "## 2.1.3 Lambda functions | Anonymous functions\n",
    "\n",
    "Using the __lambda__ keyword we are able to define an anonymous function. Its primary purpose is that it allows quick definition of a function without using the __def__ keyword. Moreover:"
   ]
  },
  {
   "cell_type": "markdown",
   "metadata": {},
   "source": [
    "- They take any number of arguments, return just one value in the form of an expression\n",
    "\n",
    "- They cannot contain commands or multiple expressions\n",
    "\n",
    "- print() calls are not allowed, because lambda requires an expression\n",
    "\n",
    "- local namespace: variables other than those in their parameter list and those in the global namespace are not accessible\n",
    "\n",
    "Some examples:"
   ]
  },
  {
   "cell_type": "markdown",
   "metadata": {},
   "source": [
    "It uses the following syntax: \n",
    "\n",
    "lambda [arg1 [,arg2,.....argn]]:expression"
   ]
  },
  {
   "cell_type": "markdown",
   "metadata": {},
   "source": [
    "Some examples: "
   ]
  },
  {
   "cell_type": "code",
   "execution_count": 13,
   "metadata": {},
   "outputs": [
    {
     "name": "stdout",
     "output_type": "stream",
     "text": [
      "foo\n"
     ]
    }
   ],
   "source": [
    "f = lambda: 'foo'\n",
    "print(f())"
   ]
  },
  {
   "cell_type": "code",
   "execution_count": 14,
   "metadata": {},
   "outputs": [
    {
     "name": "stdout",
     "output_type": "stream",
     "text": [
      "result :  30\n",
      "result :  15.0\n"
     ]
    }
   ],
   "source": [
    "mult = lambda a1, a2: a1 * a2\n",
    "\n",
    "print (\"result : \", mult( 10, 3 ))\n",
    "print (\"result : \", mult( 10, 1.5 ))"
   ]
  },
  {
   "cell_type": "markdown",
   "metadata": {},
   "source": [
    "A typical application of lambda function is when you want to use functions such as __sorted()__:"
   ]
  },
  {
   "cell_type": "code",
   "execution_count": 15,
   "metadata": {},
   "outputs": [
    {
     "data": {
      "text/plain": [
       "['We', 'a', 'bit', 'sort', 'to', 'want']"
      ]
     },
     "execution_count": 15,
     "metadata": {},
     "output_type": "execute_result"
    }
   ],
   "source": [
    "list_tosort = ['We', 'want', 'to', 'sort', 'a', 'bit']\n",
    "sorted(list_tosort)"
   ]
  },
  {
   "cell_type": "markdown",
   "metadata": {},
   "source": [
    "You can evidently see that uppercased words are sorted before lowercased words. <br>\n",
    "Using the key keyword you, we can first lowercase each list element. Thus:"
   ]
  },
  {
   "cell_type": "code",
   "execution_count": 16,
   "metadata": {},
   "outputs": [
    {
     "data": {
      "text/plain": [
       "'example'"
      ]
     },
     "execution_count": 16,
     "metadata": {},
     "output_type": "execute_result"
    }
   ],
   "source": [
    "def tolowercase(elem): return elem.lower()\n",
    "\n",
    "tolowercase('Example')"
   ]
  },
  {
   "cell_type": "markdown",
   "metadata": {},
   "source": [
    "Combining this with the *key* keyword we can achieve the following:"
   ]
  },
  {
   "cell_type": "code",
   "execution_count": 17,
   "metadata": {},
   "outputs": [
    {
     "data": {
      "text/plain": [
       "['a', 'bit', 'sort', 'to', 'want', 'We']"
      ]
     },
     "execution_count": 17,
     "metadata": {},
     "output_type": "execute_result"
    }
   ],
   "source": [
    "sorted(list_tosort, key=tolowercase)"
   ]
  },
  {
   "cell_type": "markdown",
   "metadata": {},
   "source": [
    "All works as expected, the thing is, we needed to define a separate function for this. This is not a huge disadvantage, however maybe this special function is never used again and was generated only for this specific purpose. We can do better:"
   ]
  },
  {
   "cell_type": "code",
   "execution_count": 18,
   "metadata": {},
   "outputs": [
    {
     "data": {
      "text/plain": [
       "['a', 'bit', 'sort', 'to', 'want', 'We']"
      ]
     },
     "execution_count": 18,
     "metadata": {},
     "output_type": "execute_result"
    }
   ],
   "source": [
    "sorted(list_tosort, key = lambda elem: elem.lower())"
   ]
  },
  {
   "cell_type": "markdown",
   "metadata": {},
   "source": [
    "Much shorter! Lambda functions are limited to one expression only, which is the value returned."
   ]
  },
  {
   "cell_type": "markdown",
   "metadata": {},
   "source": [
    "## 2.1.4 Returning values"
   ]
  },
  {
   "cell_type": "code",
   "execution_count": 19,
   "metadata": {},
   "outputs": [
    {
     "name": "stdout",
     "output_type": "stream",
     "text": [
      "result :  30\n"
     ]
    }
   ],
   "source": [
    "def add( arg1, arg2 ):\n",
    "    sum = arg1 + arg2\n",
    "    return sum\n",
    "\n",
    "ret = add( 10, 20 )\n",
    "print (\"result : \", ret )"
   ]
  },
  {
   "cell_type": "code",
   "execution_count": 20,
   "metadata": {},
   "outputs": [
    {
     "name": "stdout",
     "output_type": "stream",
     "text": [
      "result :  (30, -10)\n"
     ]
    }
   ],
   "source": [
    "def arithmetics( arg1, arg2 ):\n",
    "    sum = arg1 + arg2\n",
    "    sub = arg1 - arg2\n",
    "    return (sum, sub)# in this case, we return a tuple\n",
    "\n",
    "ret = arithmetics( 10, 20 )\n",
    "print (\"result : \", ret )"
   ]
  },
  {
   "cell_type": "markdown",
   "metadata": {},
   "source": [
    "Both of the following functions are equivalent:"
   ]
  },
  {
   "cell_type": "code",
   "execution_count": 21,
   "metadata": {},
   "outputs": [],
   "source": [
    "def doNothing():\n",
    "    return\n",
    "\n",
    "def doNothing2():\n",
    "    return None"
   ]
  },
  {
   "cell_type": "markdown",
   "metadata": {},
   "source": [
    "## 2.2 Global and local variable in Python"
   ]
  },
  {
   "cell_type": "markdown",
   "metadata": {},
   "source": [
    "Variables defined within a function body are called *local variables*, the ones defined outside a function body are called *global variables*. This definition follows the same rules as you may know them from e.g. C/C++/Java etc. <br>\n",
    "A local variable can only be accessed within its function and therefore is only visible there -- local __scope__.\n",
    "Contrary, a global variable is visible alse within a function body where you may also have local variables. Changing the value of a global var has a visible effect everywhere."
   ]
  },
  {
   "cell_type": "code",
   "execution_count": 22,
   "metadata": {},
   "outputs": [
    {
     "name": "stdout",
     "output_type": "stream",
     "text": [
      "['this', 'and', 'that']\n"
     ]
    }
   ],
   "source": [
    "global_list = []\n",
    "\n",
    "def someFunction():#we change the content of the globally visible list\n",
    "    global_list.append('this')\n",
    "    global_list.append('and')\n",
    "    global_list.append('that')\n",
    "  \n",
    "someFunction()\n",
    "\n",
    "print (global_list)"
   ]
  },
  {
   "cell_type": "markdown",
   "metadata": {},
   "source": [
    "## 2.3 Importing first packages and using them in a calculation"
   ]
  },
  {
   "cell_type": "code",
   "execution_count": 23,
   "metadata": {},
   "outputs": [],
   "source": [
    "import numpy as np #imports numpy, a numerical python package, to use predefined objects for calculations\n",
    "xx = np.linspace(0,9,20) #this creates an array of 20 numbers evenly (linearly) spaced between 0 and 9\n",
    "result = polynomial(xx, 1,1,1,1) #functions can operate on np.linspace objects"
   ]
  },
  {
   "cell_type": "code",
   "execution_count": 24,
   "metadata": {},
   "outputs": [
    {
     "name": "stdout",
     "output_type": "stream",
     "text": [
      "[ 1.          2.42105263  3.84210526  5.26315789  6.68421053  8.10526316\n",
      "  9.52631579 10.94736842 12.36842105 13.78947368 15.21052632 16.63157895\n",
      " 18.05263158 19.47368421 20.89473684 22.31578947 23.73684211 25.15789474\n",
      " 26.57894737 28.        ]\n"
     ]
    }
   ],
   "source": [
    "print(result) #this is the result of the calculation"
   ]
  },
  {
   "cell_type": "markdown",
   "metadata": {},
   "source": [
    "## 2.3.1 Unpacking parameters"
   ]
  },
  {
   "cell_type": "code",
   "execution_count": 25,
   "metadata": {
    "scrolled": true
   },
   "outputs": [],
   "source": [
    "params = {'a':1, 'b':1, 'c':1, 'd':1} #dictionary of parameters a list also works, but order is important when only passing a list\n",
    "params2 = {'a':1, 'd':1, 'c':1, 'b':1}\n",
    "res1 = polynomial(x=xx, **params) #this unpacks the values from the dictionary into the function call unpacking is a powerful tool\n",
    "res2 = polynomial(x=xx, **params2) #the order of the parameters inside is not important when passing a dictionary"
   ]
  },
  {
   "cell_type": "code",
   "execution_count": 26,
   "metadata": {},
   "outputs": [
    {
     "name": "stdout",
     "output_type": "stream",
     "text": [
      "[ 1.          2.42105263  3.84210526  5.26315789  6.68421053  8.10526316\n",
      "  9.52631579 10.94736842 12.36842105 13.78947368 15.21052632 16.63157895\n",
      " 18.05263158 19.47368421 20.89473684 22.31578947 23.73684211 25.15789474\n",
      " 26.57894737 28.        ]\n",
      "[ 1.          2.42105263  3.84210526  5.26315789  6.68421053  8.10526316\n",
      "  9.52631579 10.94736842 12.36842105 13.78947368 15.21052632 16.63157895\n",
      " 18.05263158 19.47368421 20.89473684 22.31578947 23.73684211 25.15789474\n",
      " 26.57894737 28.        ]\n"
     ]
    }
   ],
   "source": [
    "print(res1)\n",
    "print(res2) "
   ]
  },
  {
   "cell_type": "markdown",
   "metadata": {},
   "source": [
    "## 2.3.2 Recursive functions"
   ]
  },
  {
   "cell_type": "code",
   "execution_count": 27,
   "metadata": {},
   "outputs": [],
   "source": [
    "#Recursive funtions can be used analogously to other programming languages\n",
    "def recur_fibo(n): #this gives the nth element of the fibonacci sequence\n",
    "    if n <= 1:\n",
    "        return n\n",
    "    else:\n",
    "        return(recur_fibo(n-1) + recur_fibo(n-2))"
   ]
  },
  {
   "cell_type": "code",
   "execution_count": 28,
   "metadata": {},
   "outputs": [
    {
     "name": "stdout",
     "output_type": "stream",
     "text": [
      "34\n"
     ]
    }
   ],
   "source": [
    "fib = recur_fibo(9)\n",
    "print(fib)"
   ]
  },
  {
   "cell_type": "markdown",
   "metadata": {},
   "source": [
    "## Dynamic programming in Python\n",
    "The elements of a list are dynamically accessible while python interprets the code. This can be used to append to lists and manipulate values.\n",
    "### Task 2.2.1\n",
    "write a function that creates a list of the Fibonacci numbers up to n"
   ]
  },
  {
   "cell_type": "code",
   "execution_count": 29,
   "metadata": {},
   "outputs": [],
   "source": [
    "#This is dynamic programming (commonly used in python)\n",
    "def list_fib(n):\n",
    "    result = [0, 1]\n",
    "    if n==1:\n",
    "        return [0]\n",
    "    if n==2:\n",
    "        return result\n",
    "    else:\n",
    "        for i in range(2,n): #starting from 2 since the first 2 numbers have to be seeded\n",
    "            result.append(result[i-1]+result[i-2]) #access the last 2 elements and add them. then append them to the list\n",
    "    return result"
   ]
  },
  {
   "cell_type": "code",
   "execution_count": 30,
   "metadata": {},
   "outputs": [
    {
     "data": {
      "text/plain": [
       "[0, 1, 1, 2, 3, 5, 8, 13, 21, 34]"
      ]
     },
     "execution_count": 30,
     "metadata": {},
     "output_type": "execute_result"
    }
   ],
   "source": [
    "list_fib(10)"
   ]
  },
  {
   "cell_type": "markdown",
   "metadata": {},
   "source": [
    "## Functional programming with a list comprehension\n",
    "we will be discussing this in detail later"
   ]
  },
  {
   "cell_type": "code",
   "execution_count": 31,
   "metadata": {},
   "outputs": [
    {
     "name": "stdout",
     "output_type": "stream",
     "text": [
      "[0, 1, 1, 2, 3, 5, 8, 13, 21, 34]\n"
     ]
    }
   ],
   "source": [
    "fib = [0,1] #seednumbers\n",
    "[fib.append(fib[-1]+fib[-2]) for ctr in range(2,10)] #list comprehension because we can\n",
    "print(fib)"
   ]
  },
  {
   "cell_type": "code",
   "execution_count": 32,
   "metadata": {},
   "outputs": [
    {
     "name": "stdout",
     "output_type": "stream",
     "text": [
      "6\n"
     ]
    }
   ],
   "source": [
    "fact = lambda x: 1 if x == 0 else x * fact(x-1)\n",
    "print(fact(3))"
   ]
  },
  {
   "cell_type": "code",
   "execution_count": 33,
   "metadata": {},
   "outputs": [],
   "source": [
    "test = np.linspace(0,10)\n",
    "test_map = map(lambda x: x**2, test)"
   ]
  },
  {
   "cell_type": "code",
   "execution_count": 34,
   "metadata": {},
   "outputs": [
    {
     "name": "stdout",
     "output_type": "stream",
     "text": [
      "[ 0.          0.20408163  0.40816327  0.6122449   0.81632653  1.02040816\n",
      "  1.2244898   1.42857143  1.63265306  1.83673469  2.04081633  2.24489796\n",
      "  2.44897959  2.65306122  2.85714286  3.06122449  3.26530612  3.46938776\n",
      "  3.67346939  3.87755102  4.08163265  4.28571429  4.48979592  4.69387755\n",
      "  4.89795918  5.10204082  5.30612245  5.51020408  5.71428571  5.91836735\n",
      "  6.12244898  6.32653061  6.53061224  6.73469388  6.93877551  7.14285714\n",
      "  7.34693878  7.55102041  7.75510204  7.95918367  8.16326531  8.36734694\n",
      "  8.57142857  8.7755102   8.97959184  9.18367347  9.3877551   9.59183673\n",
      "  9.79591837 10.        ]\n",
      "[0.0, 0.04164931278633903, 0.16659725114535612, 0.3748438150770512, 0.6663890045814245, 1.0412328196584757, 1.499375260308205, 2.0408163265306123, 2.665556018325698, 3.3735943356934612, 4.164931278633903, 5.039566847147023, 5.99750104123282, 7.038733860891295, 8.16326530612245, 9.371095376926283, 10.662224073302792, 12.036651395251978, 13.494377342773845, 15.035401915868391, 16.65972511453561, 18.36734693877551, 20.158267388588094, 22.03248646397335, 23.99000416493128, 26.03082049146189, 28.15493544356518, 30.362349021241155, 32.6530612244898, 35.027072053311116, 37.48438150770513, 40.02498958767181, 42.648896293211166, 45.356101624323195, 48.14660558100791, 51.02040816326531, 53.97750937109538, 57.017909204498125, 60.141607663473565, 63.348604748021664, 66.63890045814244, 70.0124947938359, 73.46938775510203, 77.00957934194085, 80.63306955435237, 84.33985839233654, 88.1299458558934, 92.00333194502292, 95.96001665972511, 100.0]\n"
     ]
    }
   ],
   "source": [
    "print(test)\n",
    "print(list(test_map))"
   ]
  },
  {
   "cell_type": "code",
   "execution_count": null,
   "metadata": {},
   "outputs": [],
   "source": []
  }
 ],
 "metadata": {
  "kernelspec": {
   "display_name": "Python 3 (ipykernel)",
   "language": "python",
   "name": "python3"
  },
  "language_info": {
   "codemirror_mode": {
    "name": "ipython",
    "version": 3
   },
   "file_extension": ".py",
   "mimetype": "text/x-python",
   "name": "python",
   "nbconvert_exporter": "python",
   "pygments_lexer": "ipython3",
   "version": "3.10.6"
  }
 },
 "nbformat": 4,
 "nbformat_minor": 2
}
