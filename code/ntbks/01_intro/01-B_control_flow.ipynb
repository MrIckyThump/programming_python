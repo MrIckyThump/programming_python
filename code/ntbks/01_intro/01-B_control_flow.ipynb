{
 "cells": [
  {
   "cell_type": "markdown",
   "metadata": {},
   "source": [
    "# Control flow in Python\n"
   ]
  },
  {
   "cell_type": "markdown",
   "metadata": {},
   "source": [
    "Controlling which statements are executed under which condition and in which order is important. Let's start with the basic structures."
   ]
  },
  {
   "cell_type": "code",
   "execution_count": 2,
   "metadata": {},
   "outputs": [
    {
     "name": "stdout",
     "output_type": "stream",
     "text": [
      "value is: 1\n"
     ]
    }
   ],
   "source": [
    "var = 1\n",
    "if var == 1:\n",
    "    print ('value is: ' + str(1))\n",
    "else:\n",
    "    print('value is: ' + str(var))"
   ]
  },
  {
   "cell_type": "markdown",
   "metadata": {},
   "source": [
    "__Indentation depth:__ Whenever we need to indent code, pay attention, at which level within the indentation hierarchy the code needs to be placed. E.g.:"
   ]
  },
  {
   "cell_type": "code",
   "execution_count": 3,
   "metadata": {},
   "outputs": [
    {
     "name": "stdout",
     "output_type": "stream",
     "text": [
      "first level of indentation -- var is 1\n",
      "second level of indentation\n"
     ]
    }
   ],
   "source": [
    "another_var = 2\n",
    "if var == 1:\n",
    "    print ('first level of indentation -- var is 1')\n",
    "    if another_var == 2:\n",
    "        print('second level of indentation')\n",
    "        \n",
    "elif var == 3:\n",
    "    print('first level of indentation -- var is 3')        \n",
    "else:\n",
    "    print('first level of indentation -- var is not 1')"
   ]
  },
  {
   "cell_type": "markdown",
   "metadata": {},
   "source": [
    "## Iteration"
   ]
  },
  {
   "cell_type": "code",
   "execution_count": 3,
   "metadata": {},
   "outputs": [
    {
     "name": "stdout",
     "output_type": "stream",
     "text": [
      "range(0, 20)\n",
      "<class 'range'>\n"
     ]
    }
   ],
   "source": [
    "index = range(20)\n",
    "print(index)\n",
    "print(type(index))"
   ]
  },
  {
   "cell_type": "code",
   "execution_count": 4,
   "metadata": {},
   "outputs": [
    {
     "name": "stdout",
     "output_type": "stream",
     "text": [
      "0\n",
      "1\n",
      "2\n",
      "3\n",
      "4\n",
      "5\n",
      "6\n",
      "7\n",
      "8\n",
      "9\n",
      "10\n",
      "11\n",
      "12\n",
      "13\n",
      "14\n",
      "15\n",
      "16\n",
      "17\n",
      "18\n",
      "19\n"
     ]
    }
   ],
   "source": [
    "for i in index:#iterate over an index\n",
    "    print(i)"
   ]
  },
  {
   "cell_type": "code",
   "execution_count": 5,
   "metadata": {},
   "outputs": [
    {
     "name": "stdout",
     "output_type": "stream",
     "text": [
      "[0, 1, 2, 3, 4, 5, 6, 7, 8, 9, 10, 11, 12, 13, 14, 15, 16, 17, 18, 19]\n",
      "<class 'list'>\n"
     ]
    }
   ],
   "source": [
    "l = list(index)#typecast\n",
    "print(l)\n",
    "print(type(l))"
   ]
  },
  {
   "cell_type": "code",
   "execution_count": 6,
   "metadata": {},
   "outputs": [
    {
     "name": "stdout",
     "output_type": "stream",
     "text": [
      "0\n",
      "1\n",
      "2\n",
      "3\n",
      "4\n",
      "5\n",
      "6\n",
      "7\n",
      "8\n",
      "9\n",
      "10\n",
      "11\n",
      "12\n",
      "13\n",
      "14\n",
      "15\n",
      "16\n",
      "17\n",
      "18\n",
      "19\n"
     ]
    }
   ],
   "source": [
    "for i in l:#basically the same as iterating over an index\n",
    "    print(i)"
   ]
  },
  {
   "cell_type": "code",
   "execution_count": 2,
   "metadata": {},
   "outputs": [],
   "source": [
    "another_list = ['this', 'is', 'a', 'list', 'of', 'strings']"
   ]
  },
  {
   "cell_type": "code",
   "execution_count": 3,
   "metadata": {
    "scrolled": true
   },
   "outputs": [
    {
     "name": "stdout",
     "output_type": "stream",
     "text": [
      "this\n",
      "is\n",
      "a\n",
      "list\n",
      "of\n",
      "strings\n"
     ]
    }
   ],
   "source": [
    "for element in another_list:#iterating over the elements of a list\n",
    "    print(element)"
   ]
  },
  {
   "cell_type": "code",
   "execution_count": 6,
   "metadata": {},
   "outputs": [
    {
     "name": "stdout",
     "output_type": "stream",
     "text": [
      "0 this\n",
      "1 is\n",
      "2 a\n",
      "3 list\n",
      "4 of\n",
      "5 strings\n"
     ]
    }
   ],
   "source": [
    "for idx,element in enumerate(another_list):#iterating over the elements of a list\n",
    "    print(str(idx) + ' ' + element)"
   ]
  },
  {
   "cell_type": "markdown",
   "metadata": {},
   "source": [
    "## Using while/break/continue"
   ]
  },
  {
   "cell_type": "code",
   "execution_count": 9,
   "metadata": {},
   "outputs": [
    {
     "name": "stdout",
     "output_type": "stream",
     "text": [
      "['this', 'is', 'a', 'list', 'of', 'strings']\n",
      "this is a list of strings \n"
     ]
    }
   ],
   "source": [
    "another_list = ['this', 'is', 'a', 'list', 'of', 'strings']\n",
    "string = ''\n",
    "print(another_list)\n",
    "while len(another_list) != 0:\n",
    "    string += another_list.pop(0)\n",
    "    string += ' '\n",
    "print (string)"
   ]
  },
  {
   "cell_type": "code",
   "execution_count": 10,
   "metadata": {},
   "outputs": [
    {
     "name": "stdout",
     "output_type": "stream",
     "text": [
      "['this', 'is', 'a', 'list', 'of', 'strings']\n",
      "this is a list of strings \n"
     ]
    }
   ],
   "source": [
    "#is there a difference to the cell above?\n",
    "another_list = ['this', 'is', 'a', 'list', 'of', 'strings']\n",
    "string = ''\n",
    "print(another_list)\n",
    "while len(another_list):\n",
    "    string += another_list.pop(0)\n",
    "    string += ' '\n",
    "    if len(another_list) == 0:\n",
    "        break\n",
    "print (string)"
   ]
  },
  {
   "cell_type": "code",
   "execution_count": 11,
   "metadata": {},
   "outputs": [
    {
     "name": "stdout",
     "output_type": "stream",
     "text": [
      "['this', 'is', 'a', 'list', 'of', 'strings']\n",
      "this is list of strings \n"
     ]
    }
   ],
   "source": [
    "#continue works, as you know it from other programming languages\n",
    "another_list = ['this', 'is', 'a', 'list', 'of', 'strings']\n",
    "string = ''\n",
    "print(another_list)\n",
    "while len(another_list) != 0:\n",
    "    if(another_list[0] == 'a'):\n",
    "        another_list.pop(0)\n",
    "        continue\n",
    "    string += another_list.pop(0)\n",
    "    string += ' '\n",
    "print (string)"
   ]
  }
 ],
 "metadata": {
  "kernelspec": {
   "display_name": "Python 3 (ipykernel)",
   "language": "python",
   "name": "python3"
  },
  "language_info": {
   "codemirror_mode": {
    "name": "ipython",
    "version": 3
   },
   "file_extension": ".py",
   "mimetype": "text/x-python",
   "name": "python",
   "nbconvert_exporter": "python",
   "pygments_lexer": "ipython3",
   "version": "3.10.6"
  }
 },
 "nbformat": 4,
 "nbformat_minor": 2
}
