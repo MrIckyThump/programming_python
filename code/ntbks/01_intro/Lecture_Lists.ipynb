{
 "cells": [
  {
   "cell_type": "markdown",
   "metadata": {},
   "source": [
    "## Lists in Python\n",
    "- Lists are so-called containers in Python\n",
    "- containers are able to hold data types of any kind or even other containers \n",
    "- lists are defined using square brackets\n",
    "- all elements in a list are ordered\n",
    "- each element is seperated by a comma\n",
    "- each element can be accessed using bracket notation\n",
    "- the elements in a list are 0-indexed\n",
    "- the last element in a list is at position n - 1, n being the number of elements in the list"
   ]
  },
  {
   "cell_type": "code",
   "execution_count": 29,
   "metadata": {
    "scrolled": true
   },
   "outputs": [
    {
     "name": "stdout",
     "output_type": "stream",
     "text": [
      "[]\n",
      "[1, 2, 3, 4, 5, 6, 7]\n",
      "['a', 'b', 'c', 'd']\n"
     ]
    }
   ],
   "source": [
    "empty_list = []\n",
    "numbers = [1,2,3,4,5,6,7]\n",
    "letters = ['a', 'b', 'c', 'd']\n",
    "data = ['data', 'science', 'machine', 'learning', 'artificial', 'intelligence']\n",
    "\n",
    "print(empty_list)\n",
    "print(numbers)\n",
    "print(letters)"
   ]
  },
  {
   "cell_type": "code",
   "execution_count": 2,
   "metadata": {},
   "outputs": [
    {
     "name": "stdout",
     "output_type": "stream",
     "text": [
      "4\n"
     ]
    }
   ],
   "source": [
    "print(len(letters))"
   ]
  },
  {
   "cell_type": "code",
   "execution_count": 3,
   "metadata": {},
   "outputs": [
    {
     "name": "stdout",
     "output_type": "stream",
     "text": [
      "['this', 'that']\n"
     ]
    }
   ],
   "source": [
    "#using the list contstructor\n",
    "print(list(('this', 'that')))"
   ]
  },
  {
   "cell_type": "code",
   "execution_count": 4,
   "metadata": {},
   "outputs": [
    {
     "name": "stdout",
     "output_type": "stream",
     "text": [
      "a\n",
      "4\n"
     ]
    }
   ],
   "source": [
    "print(letters[0])\n",
    "print(numbers[3])"
   ]
  },
  {
   "cell_type": "code",
   "execution_count": 5,
   "metadata": {},
   "outputs": [
    {
     "name": "stdout",
     "output_type": "stream",
     "text": [
      "4\n",
      "d\n"
     ]
    }
   ],
   "source": [
    "print(len(letters)) # the method len() returns the length of e.g. a list\n",
    "print(letters[len(letters) - 1]) # this way allows you to access the last element in a list"
   ]
  },
  {
   "cell_type": "markdown",
   "metadata": {},
   "source": [
    "- accessing the first or last element in a container happens quite frequently\n",
    "- you need to be careful when doing that since errors may arise from 'overreaching' an element in a container\n",
    "- there are multiple ways to access an element at the 'edge' of a container, such as this:"
   ]
  },
  {
   "cell_type": "code",
   "execution_count": 7,
   "metadata": {},
   "outputs": [
    {
     "name": "stdout",
     "output_type": "stream",
     "text": [
      "d\n",
      "['b', 'c']\n"
     ]
    }
   ],
   "source": [
    "print(letters[-1]) # this is a much shorter way than above\n"
   ]
  },
  {
   "cell_type": "markdown",
   "metadata": {},
   "source": [
    "- elements in a list can be reached in a cirular fashion\n",
    "- 0 indexes the first element, - 1 indexes the element the end of a list\n",
    "- this patterns extends even further down the list"
   ]
  },
  {
   "cell_type": "code",
   "execution_count": 8,
   "metadata": {},
   "outputs": [
    {
     "name": "stdout",
     "output_type": "stream",
     "text": [
      "b\n"
     ]
    }
   ],
   "source": [
    "print(letters[-3])#this works\n",
    "#print(letters[-6]) # this won't work any more"
   ]
  },
  {
   "cell_type": "code",
   "execution_count": 9,
   "metadata": {},
   "outputs": [
    {
     "name": "stdout",
     "output_type": "stream",
     "text": [
      "['b', 'c', 'd']\n",
      "['c', 'd']\n",
      "['a', 'b', 'c', 'd']\n"
     ]
    }
   ],
   "source": [
    "print(letters[1:4])\n",
    "print(letters[2:])\n",
    "print(letters[:4])"
   ]
  },
  {
   "cell_type": "code",
   "execution_count": 11,
   "metadata": {},
   "outputs": [
    {
     "name": "stdout",
     "output_type": "stream",
     "text": [
      "False\n"
     ]
    }
   ],
   "source": [
    "if 'machine' in data:\n",
    "    print(True)\n",
    "else:\n",
    "    print(False)"
   ]
  },
  {
   "cell_type": "code",
   "execution_count": 12,
   "metadata": {},
   "outputs": [
    {
     "name": "stdout",
     "output_type": "stream",
     "text": [
      "['data', 'science', 'Machine', 'learning', 'artificial', 'intelligence']\n"
     ]
    }
   ],
   "source": [
    "data[2] = 'Machine'\n",
    "print(data)"
   ]
  },
  {
   "cell_type": "code",
   "execution_count": 13,
   "metadata": {},
   "outputs": [
    {
     "name": "stdout",
     "output_type": "stream",
     "text": [
      "['data', 'Data', 'Analysis', 'Machine', 'learning', 'artificial', 'intelligence']\n"
     ]
    }
   ],
   "source": [
    "data[1:2] = ['Data', 'Analysis']\n",
    "print(data)"
   ]
  },
  {
   "cell_type": "code",
   "execution_count": 14,
   "metadata": {},
   "outputs": [
    {
     "name": "stdout",
     "output_type": "stream",
     "text": [
      "['data', 'science', 'Data', 'Analysis', 'Machine', 'learning', 'artificial', 'intelligence']\n"
     ]
    }
   ],
   "source": [
    "data.insert(1,'science')\n",
    "print(data)"
   ]
  },
  {
   "cell_type": "code",
   "execution_count": 15,
   "metadata": {},
   "outputs": [
    {
     "name": "stdout",
     "output_type": "stream",
     "text": [
      "['data', 'science', 'Data', 'Analysis', 'Machine', 'learning', 'artificial', 'intelligence', 'more data']\n"
     ]
    }
   ],
   "source": [
    "data.append('more data')\n",
    "print(data)"
   ]
  },
  {
   "cell_type": "code",
   "execution_count": 16,
   "metadata": {},
   "outputs": [
    {
     "name": "stdout",
     "output_type": "stream",
     "text": [
      "['data', 'science', 'Data', 'Analysis', 'Machine', 'learning', 'artificial', 'intelligence', 'more data', ['this', 'that'], 'this', 'that']\n"
     ]
    }
   ],
   "source": [
    "dataList = ['this','that']\n",
    "data.append(dataList)\n",
    "data.extend(dataList)\n",
    "print(data)"
   ]
  },
  {
   "cell_type": "code",
   "execution_count": 17,
   "metadata": {},
   "outputs": [
    {
     "name": "stdout",
     "output_type": "stream",
     "text": [
      "['data', 'science', 'Data', 'Analysis', 'Machine', 'learning', 'artificial', 'intelligence', 'more data', ['this', 'that'], 'this', 'that', 'statistical', 'analysis']\n"
     ]
    }
   ],
   "source": [
    "data.extend(('statistical', 'analysis'))\n",
    "print(data)"
   ]
  },
  {
   "cell_type": "code",
   "execution_count": 18,
   "metadata": {},
   "outputs": [
    {
     "name": "stdout",
     "output_type": "stream",
     "text": [
      "['data', 'science', 'Data', 'Analysis', 'Machine', 'learning', 'artificial', 'intelligence', 'more data', ['this', 'that'], 'this', 'that', 'analysis']\n",
      "['science', 'Data', 'Analysis', 'Machine', 'learning', 'artificial', 'intelligence', 'more data', ['this', 'that'], 'this', 'that', 'analysis']\n"
     ]
    }
   ],
   "source": [
    "data.remove('statistical')\n",
    "print(data)\n",
    "data.remove('data')\n",
    "print(data)"
   ]
  },
  {
   "cell_type": "code",
   "execution_count": 19,
   "metadata": {},
   "outputs": [
    {
     "name": "stdout",
     "output_type": "stream",
     "text": [
      "analysis\n",
      "['science', 'Data', 'Analysis', 'Machine', 'learning', 'artificial', 'intelligence', 'more data', ['this', 'that'], 'this', 'that']\n"
     ]
    }
   ],
   "source": [
    "item = data.pop()#remove last item\n",
    "print(item)\n",
    "print(data)"
   ]
  },
  {
   "cell_type": "code",
   "execution_count": 20,
   "metadata": {
    "scrolled": true
   },
   "outputs": [
    {
     "name": "stdout",
     "output_type": "stream",
     "text": [
      "artificial\n",
      "['science', 'Data', 'Analysis', 'Machine', 'learning', 'intelligence', 'more data', ['this', 'that'], 'this', 'that']\n"
     ]
    }
   ],
   "source": [
    "item = data.pop(5)#remove item at index 5\n",
    "print(item)\n",
    "print(data)\n"
   ]
  },
  {
   "cell_type": "code",
   "execution_count": 21,
   "metadata": {},
   "outputs": [
    {
     "name": "stdout",
     "output_type": "stream",
     "text": [
      "['Data', 'Analysis', 'Machine', 'learning', 'intelligence', 'more data', ['this', 'that'], 'this', 'that']\n"
     ]
    }
   ],
   "source": [
    "item = data.pop(0)\n",
    "print(data)"
   ]
  },
  {
   "cell_type": "code",
   "execution_count": 22,
   "metadata": {},
   "outputs": [],
   "source": [
    "#removing with 'del' also works - you need to provide the list and the index\n",
    "del data[len(data)-3]\n",
    "#del data[-3]"
   ]
  },
  {
   "cell_type": "code",
   "execution_count": 23,
   "metadata": {},
   "outputs": [
    {
     "name": "stdout",
     "output_type": "stream",
     "text": [
      "['Data', 'Analysis', 'Machine', 'learning', 'intelligence', 'more data', 'this', 'that']\n"
     ]
    }
   ],
   "source": [
    "print(data)"
   ]
  },
  {
   "cell_type": "code",
   "execution_count": 24,
   "metadata": {},
   "outputs": [
    {
     "name": "stdout",
     "output_type": "stream",
     "text": [
      "that\n"
     ]
    }
   ],
   "source": [
    "#how to pop the last item?\n",
    "print(data.pop(-1))\n",
    "#print(data.pop())"
   ]
  },
  {
   "cell_type": "code",
   "execution_count": 25,
   "metadata": {},
   "outputs": [],
   "source": [
    "#do the same with 'del'\n",
    "#del deta[-1]"
   ]
  },
  {
   "cell_type": "code",
   "execution_count": 26,
   "metadata": {},
   "outputs": [],
   "source": [
    "#delete the whole data list\n",
    "#del data"
   ]
  },
  {
   "cell_type": "code",
   "execution_count": 27,
   "metadata": {},
   "outputs": [
    {
     "name": "stdout",
     "output_type": "stream",
     "text": [
      "None\n"
     ]
    }
   ],
   "source": [
    "#clear() on lists\n",
    "print(data.clear())\n"
   ]
  },
  {
   "cell_type": "code",
   "execution_count": 28,
   "metadata": {},
   "outputs": [
    {
     "name": "stdout",
     "output_type": "stream",
     "text": [
      "[]\n"
     ]
    }
   ],
   "source": [
    "print(data)"
   ]
  },
  {
   "cell_type": "code",
   "execution_count": 30,
   "metadata": {},
   "outputs": [
    {
     "name": "stdout",
     "output_type": "stream",
     "text": [
      "data\n",
      "science\n",
      "machine\n",
      "learning\n",
      "artificial\n",
      "intelligence\n"
     ]
    }
   ],
   "source": [
    "for element in data:\n",
    "    print(element)"
   ]
  },
  {
   "cell_type": "code",
   "execution_count": 32,
   "metadata": {},
   "outputs": [],
   "source": [
    "r = range(10)"
   ]
  },
  {
   "cell_type": "code",
   "execution_count": 34,
   "metadata": {},
   "outputs": [
    {
     "name": "stdout",
     "output_type": "stream",
     "text": [
      "<class 'range'>\n"
     ]
    }
   ],
   "source": [
    "print(type(r))"
   ]
  },
  {
   "cell_type": "code",
   "execution_count": 31,
   "metadata": {},
   "outputs": [
    {
     "name": "stdout",
     "output_type": "stream",
     "text": [
      "data\n",
      "science\n",
      "machine\n",
      "learning\n",
      "artificial\n",
      "intelligence\n"
     ]
    }
   ],
   "source": [
    "for i in range(len(data)):\n",
    "    print(data[i])"
   ]
  },
  {
   "cell_type": "code",
   "execution_count": 35,
   "metadata": {},
   "outputs": [
    {
     "name": "stdout",
     "output_type": "stream",
     "text": [
      "0 : data\n",
      "1 : science\n",
      "2 : machine\n",
      "3 : learning\n",
      "4 : artificial\n",
      "5 : intelligence\n"
     ]
    }
   ],
   "source": [
    "for idx, item in enumerate(data):\n",
    "    print(str(idx) + ' : ' + data[idx])"
   ]
  },
  {
   "cell_type": "code",
   "execution_count": 41,
   "metadata": {
    "scrolled": true
   },
   "outputs": [
    {
     "name": "stdout",
     "output_type": "stream",
     "text": [
      "0\n",
      "heute\n",
      "1\n",
      "scheint\n",
      "2\n",
      "die\n",
      "3\n",
      "Sonne\n"
     ]
    }
   ],
   "source": [
    "moredata = ['heute', 'scheint', 'die', 'Sonne']\n",
    "for index,elementofcrime in enumerate(moredata):\n",
    "    print(index)\n",
    "    print(elementofcrime)"
   ]
  },
  {
   "cell_type": "code",
   "execution_count": 42,
   "metadata": {},
   "outputs": [
    {
     "name": "stdout",
     "output_type": "stream",
     "text": [
      "0\n",
      "heute\n",
      "1\n",
      "scheint\n",
      "2\n",
      "die\n",
      "3\n",
      "Sonne\n"
     ]
    }
   ],
   "source": [
    "#do the same with a while loop:\n",
    "i = 0\n",
    "while i < len(moredata) :\n",
    "    print(i)\n",
    "    print(moredata[i])\n",
    "    i = i + 1"
   ]
  },
  {
   "cell_type": "code",
   "execution_count": 43,
   "metadata": {},
   "outputs": [
    {
     "data": {
      "text/plain": [
       "['data', 'science', 'machine', 'learning', 'artificial', 'intelligence']"
      ]
     },
     "execution_count": 43,
     "metadata": {},
     "output_type": "execute_result"
    }
   ],
   "source": [
    "list(data)"
   ]
  },
  {
   "cell_type": "code",
   "execution_count": 46,
   "metadata": {},
   "outputs": [],
   "source": [
    "math = ['stats', 'algebra', 'Statistics', 'geometry']"
   ]
  },
  {
   "cell_type": "code",
   "execution_count": 47,
   "metadata": {
    "scrolled": true
   },
   "outputs": [
    {
     "name": "stdout",
     "output_type": "stream",
     "text": [
      "['Statistics', 'algebra', 'geometry', 'stats']\n"
     ]
    }
   ],
   "source": [
    "math.sort()#alphabetical sorting, numerical sorting works the same way\n",
    "print(math)"
   ]
  },
  {
   "cell_type": "code",
   "execution_count": null,
   "metadata": {},
   "outputs": [],
   "source": [
    "#string sorting is case sensitive - what does this mean and how can we change that?\n",
    "#..."
   ]
  },
  {
   "cell_type": "code",
   "execution_count": 49,
   "metadata": {},
   "outputs": [],
   "source": [
    "#sorting can be reversed\n",
    "math.sort(reverse=True)"
   ]
  },
  {
   "cell_type": "code",
   "execution_count": 50,
   "metadata": {},
   "outputs": [
    {
     "data": {
      "text/plain": [
       "['stats', 'geometry', 'algebra', 'Statistics']"
      ]
     },
     "execution_count": 50,
     "metadata": {},
     "output_type": "execute_result"
    }
   ],
   "source": [
    "math"
   ]
  },
  {
   "cell_type": "code",
   "execution_count": 52,
   "metadata": {},
   "outputs": [
    {
     "name": "stdout",
     "output_type": "stream",
     "text": [
      "[50, 30, 10, 120, -20]\n"
     ]
    }
   ],
   "source": [
    "#customize sorting: how close is a number to 50?\n",
    "\n",
    "l = [10,30, 50, 120 , -20]\n",
    "\n",
    "def sortFunction(n):\n",
    "    return abs(n - 50)\n",
    "l.sort(key = sortFunction)\n",
    "print(l)"
   ]
  },
  {
   "cell_type": "markdown",
   "metadata": {},
   "source": [
    "### Copying lists\n",
    "List cannot simply be copied by using the = operator. Doing something like l1 = l2 creates a reference to l1 and therefore changes made in l2 will also change elements in l1. We need to use the copy function to create an own list copying all elements from the first."
   ]
  },
  {
   "cell_type": "code",
   "execution_count": 53,
   "metadata": {},
   "outputs": [],
   "source": [
    "a = ['me', 'myself', 'and I']\n",
    "b = a"
   ]
  },
  {
   "cell_type": "code",
   "execution_count": 54,
   "metadata": {
    "scrolled": false
   },
   "outputs": [
    {
     "name": "stdout",
     "output_type": "stream",
     "text": [
      "['me', 'myself', 'and I']\n",
      "['me', 'myself', 'and I']\n"
     ]
    }
   ],
   "source": [
    "print(a)\n",
    "print(b)"
   ]
  },
  {
   "cell_type": "code",
   "execution_count": 55,
   "metadata": {},
   "outputs": [],
   "source": [
    "b[1] = 'yourself'"
   ]
  },
  {
   "cell_type": "code",
   "execution_count": 56,
   "metadata": {},
   "outputs": [
    {
     "name": "stdout",
     "output_type": "stream",
     "text": [
      "['me', 'yourself', 'and I']\n",
      "['me', 'yourself', 'and I']\n"
     ]
    }
   ],
   "source": [
    "print(a)\n",
    "print(b)\n",
    "#the changes happen in both lists"
   ]
  },
  {
   "cell_type": "code",
   "execution_count": 57,
   "metadata": {},
   "outputs": [
    {
     "name": "stdout",
     "output_type": "stream",
     "text": [
      "['me', 'yourself', 'and I']\n"
     ]
    }
   ],
   "source": [
    "c = a.copy()\n",
    "print(c)"
   ]
  },
  {
   "cell_type": "code",
   "execution_count": 58,
   "metadata": {},
   "outputs": [],
   "source": [
    "c[1] = 'myself'"
   ]
  },
  {
   "cell_type": "code",
   "execution_count": 59,
   "metadata": {},
   "outputs": [
    {
     "name": "stdout",
     "output_type": "stream",
     "text": [
      "['me', 'yourself', 'and I']\n",
      "['me', 'yourself', 'and I']\n",
      "['me', 'myself', 'and I']\n"
     ]
    }
   ],
   "source": [
    "print(a)\n",
    "print(b)\n",
    "print(c)\n",
    "#the changes in list c does not change anything in list a"
   ]
  },
  {
   "cell_type": "code",
   "execution_count": 61,
   "metadata": {},
   "outputs": [],
   "source": [
    "#except for copy() we can also use the list() constructor\n",
    "d = list(c)"
   ]
  },
  {
   "cell_type": "code",
   "execution_count": 62,
   "metadata": {},
   "outputs": [
    {
     "name": "stdout",
     "output_type": "stream",
     "text": [
      "['me', 'myself', 'and I']\n",
      "['me', 'myself', 'and I']\n"
     ]
    }
   ],
   "source": [
    "print(c)\n",
    "print(d)"
   ]
  },
  {
   "cell_type": "code",
   "execution_count": 63,
   "metadata": {},
   "outputs": [],
   "source": [
    "d[1] = 'whatever'"
   ]
  },
  {
   "cell_type": "code",
   "execution_count": 64,
   "metadata": {},
   "outputs": [
    {
     "name": "stdout",
     "output_type": "stream",
     "text": [
      "['me', 'myself', 'and I']\n",
      "['me', 'whatever', 'and I']\n"
     ]
    }
   ],
   "source": [
    "print(c)\n",
    "print(d)"
   ]
  },
  {
   "cell_type": "markdown",
   "metadata": {},
   "source": [
    "### Putting lists together"
   ]
  },
  {
   "cell_type": "code",
   "execution_count": 65,
   "metadata": {},
   "outputs": [],
   "source": [
    "#using + operator\n",
    "#using a loop\n",
    "#using extend\n"
   ]
  },
  {
   "cell_type": "code",
   "execution_count": 66,
   "metadata": {},
   "outputs": [
    {
     "name": "stdout",
     "output_type": "stream",
     "text": [
      "['me', 'yourself', 'and I', 'me', 'myself', 'and I']\n"
     ]
    }
   ],
   "source": [
    "print(a+c)"
   ]
  },
  {
   "cell_type": "code",
   "execution_count": 67,
   "metadata": {},
   "outputs": [
    {
     "name": "stdout",
     "output_type": "stream",
     "text": [
      "None\n"
     ]
    }
   ],
   "source": [
    "print(a.extend(c))"
   ]
  },
  {
   "cell_type": "code",
   "execution_count": 68,
   "metadata": {},
   "outputs": [
    {
     "name": "stdout",
     "output_type": "stream",
     "text": [
      "['me', 'yourself', 'and I', 'me', 'myself', 'and I']\n"
     ]
    }
   ],
   "source": [
    "print(a)"
   ]
  },
  {
   "cell_type": "code",
   "execution_count": 69,
   "metadata": {},
   "outputs": [],
   "source": [
    "b.extend(d)"
   ]
  },
  {
   "cell_type": "code",
   "execution_count": 70,
   "metadata": {},
   "outputs": [
    {
     "name": "stdout",
     "output_type": "stream",
     "text": [
      "['me', 'yourself', 'and I', 'me', 'myself', 'and I', 'me', 'whatever', 'and I']\n"
     ]
    }
   ],
   "source": [
    "print(b)"
   ]
  },
  {
   "cell_type": "markdown",
   "metadata": {},
   "source": [
    "### Some useful list methods\n",
    "- append( )\t| Adds an element at the end of the list\n",
    "- clear( )  | Removes all the elements from the list\n",
    "- copy( )\t| Returns a copy of the list\n",
    "- count( )\t| Returns the number of elements with the specified value\n",
    "- extend( )\t| Add the elements of a list (or any iterable), to the end of the current list\n",
    "- index( )\t| Returns the index of the first element with the specified value\n",
    "- insert( )\t| Adds an element at the specified position\n",
    "- pop()\t    | Removes the element at the specified position\n",
    "- remove( )\t| Removes the item with the specified value\n",
    "- reverse( )| Reverses the order of the list\n",
    "- sort( )\t| Sorts the list"
   ]
  },
  {
   "cell_type": "code",
   "execution_count": 71,
   "metadata": {},
   "outputs": [
    {
     "data": {
      "text/plain": [
       "3"
      ]
     },
     "execution_count": 71,
     "metadata": {},
     "output_type": "execute_result"
    }
   ],
   "source": [
    "b.count('me')"
   ]
  },
  {
   "cell_type": "markdown",
   "metadata": {},
   "source": [
    "## Exercises"
   ]
  },
  {
   "cell_type": "code",
   "execution_count": 3,
   "metadata": {},
   "outputs": [
    {
     "name": "stdout",
     "output_type": "stream",
     "text": [
      "321\n",
      "123\n"
     ]
    }
   ],
   "source": [
    "# given a 3x3 matrix - display the matrix with lists and \n",
    "# calculate the sum of the diagonal elements\n",
    "\n",
    "matrix = [[1,2,3], [10,20,30], [100,200,300]]\n",
    "\n",
    "sum_1 = 0\n",
    "sum_2 = 0\n",
    "\n",
    "for i in range(len(matrix)):\n",
    "    sum_1 = sum_1 + matrix[i][i] \n",
    "    sum_2 += matrix[i][len(matrix)-(i+1)]\n",
    "    \n",
    "print(sum_1)\n",
    "print(sum_2)"
   ]
  },
  {
   "cell_type": "code",
   "execution_count": 5,
   "metadata": {},
   "outputs": [
    {
     "name": "stdout",
     "output_type": "stream",
     "text": [
      "[200, 100, 220, 300]\n",
      "['more', 'data', 'science']\n"
     ]
    }
   ],
   "source": [
    "# given the following list - split them by data type and sort the lists in ascending order\n",
    "#each outcoming list should hold the same data type \n",
    "l = ['more', 'data', 200, [100, 220], 'science', 300]\n",
    "\n",
    "int_s = []\n",
    "strs = []\n",
    "\n",
    "for element in l:\n",
    "    if type(element) == str:\n",
    "        strs.append(element)\n",
    "    elif type(element) in (list, int):\n",
    "        if type(element) == list:\n",
    "            int_s.extend(element)\n",
    "        else:\n",
    "            int_s.append(element)\n",
    "print(int_s)\n",
    "print(strs)"
   ]
  },
  {
   "cell_type": "code",
   "execution_count": 12,
   "metadata": {},
   "outputs": [
    {
     "name": "stdout",
     "output_type": "stream",
     "text": [
      "(96, 95)\n"
     ]
    }
   ],
   "source": [
    "# write a function returing the two best grades from this list as a tuple\n",
    "# do not use sort(), handle the search automatically\n",
    "grades = [96,86,95,85,85,93,23,45,8,1,23,40]\n",
    "def get_2_best_grades(lst):\n",
    "    first_max = max(lst)\n",
    "    lst.remove(first_max)\n",
    "    second_max = max(lst)\n",
    "    return(first_max, second_max)\n",
    "print(get_2_best_grades(grades))"
   ]
  }
 ],
 "metadata": {
  "kernelspec": {
   "display_name": "Python 3 (ipykernel)",
   "language": "python",
   "name": "python3"
  },
  "language_info": {
   "codemirror_mode": {
    "name": "ipython",
    "version": 3
   },
   "file_extension": ".py",
   "mimetype": "text/x-python",
   "name": "python",
   "nbconvert_exporter": "python",
   "pygments_lexer": "ipython3",
   "version": "3.10.6"
  }
 },
 "nbformat": 4,
 "nbformat_minor": 2
}
