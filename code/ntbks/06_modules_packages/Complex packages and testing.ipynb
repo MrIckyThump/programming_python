{
 "cells": [
  {
   "cell_type": "markdown",
   "metadata": {},
   "source": [
    "# Complex packages and testing\n",
    "\n",
    "In this notebook we will learn how to write more complex packages. We will use the blueprint of our already started first package. We will write simple tests to ensure code quality and verify our algorithms."
   ]
  },
  {
   "cell_type": "markdown",
   "metadata": {},
   "source": [
    "## Exercise 6.1\n",
    "\n",
    "This Package is supposed to make your life as a Data Scientist easier. There might be already programmed packages for these tasks already, but for the sake of practice and customizability we are going to write our own toolkit for our custom analysis.\n",
    "\n",
    "In the later stages of the exercises we will come back to a some functions and methods to speed them up or make them more readable.\n",
    "\n",
    "Let us start with basic things we will always need.\n",
    "Reading, wrinting and visualizing data"
   ]
  },
  {
   "cell_type": "markdown",
   "metadata": {},
   "source": [
    "### Exercise 6.1.1\n",
    "\n",
    "Write a module called ds_toolkit.io. This module will take care of data handling. Reading and writing data.\n",
    "The module should have functions for different data types. \n",
    "Common data types that are found in Data Science are: HDF5, root, fits and csv.\n",
    "\n",
    "Write functions to handle the different formats the format does not have to be specified in the functions name.\n",
    "There are packages that can infer the file format from the file extension.\n",
    "You can use the read functions from existing libraries like pandas.\n",
    "\n",
    "For example:"
   ]
  },
  {
   "cell_type": "code",
   "execution_count": 1,
   "metadata": {},
   "outputs": [],
   "source": [
    "import pandas as pd\n",
    "import numpy as np\n",
    "import os"
   ]
  },
  {
   "cell_type": "code",
   "execution_count": 2,
   "metadata": {},
   "outputs": [],
   "source": [
    "def read_file_example(filepath):\n",
    "    filename, ext = os.path.splitext(filepath)\n",
    "    if ext=='.fits':\n",
    "        #do stuff with some package\n",
    "        pass\n",
    "    return pd.DataFrame()"
   ]
  },
  {
   "cell_type": "markdown",
   "metadata": {},
   "source": [
    "### Exercise 6.1.2\n",
    "To test the basic functionality of your functions write a randomly generated table to your hard drive and read it in again."
   ]
  },
  {
   "cell_type": "code",
   "execution_count": 3,
   "metadata": {},
   "outputs": [
    {
     "data": {
      "text/html": [
       "<div>\n",
       "<style scoped>\n",
       "    .dataframe tbody tr th:only-of-type {\n",
       "        vertical-align: middle;\n",
       "    }\n",
       "\n",
       "    .dataframe tbody tr th {\n",
       "        vertical-align: top;\n",
       "    }\n",
       "\n",
       "    .dataframe thead th {\n",
       "        text-align: right;\n",
       "    }\n",
       "</style>\n",
       "<table border=\"1\" class=\"dataframe\">\n",
       "  <thead>\n",
       "    <tr style=\"text-align: right;\">\n",
       "      <th></th>\n",
       "      <th>A</th>\n",
       "      <th>B</th>\n",
       "    </tr>\n",
       "  </thead>\n",
       "  <tbody>\n",
       "    <tr>\n",
       "      <th>0</th>\n",
       "      <td>24</td>\n",
       "      <td>0.889885</td>\n",
       "    </tr>\n",
       "    <tr>\n",
       "      <th>1</th>\n",
       "      <td>62</td>\n",
       "      <td>0.538329</td>\n",
       "    </tr>\n",
       "    <tr>\n",
       "      <th>2</th>\n",
       "      <td>93</td>\n",
       "      <td>0.766726</td>\n",
       "    </tr>\n",
       "    <tr>\n",
       "      <th>3</th>\n",
       "      <td>40</td>\n",
       "      <td>0.460230</td>\n",
       "    </tr>\n",
       "    <tr>\n",
       "      <th>4</th>\n",
       "      <td>90</td>\n",
       "      <td>0.667329</td>\n",
       "    </tr>\n",
       "  </tbody>\n",
       "</table>\n",
       "</div>"
      ],
      "text/plain": [
       "    A         B\n",
       "0  24  0.889885\n",
       "1  62  0.538329\n",
       "2  93  0.766726\n",
       "3  40  0.460230\n",
       "4  90  0.667329"
      ]
     },
     "execution_count": 3,
     "metadata": {},
     "output_type": "execute_result"
    }
   ],
   "source": [
    "np.random.seed(1337)\n",
    "test_df = pd.DataFrame({'A': np.random.randint(1,100, size=100), 'B': np.random.uniform(size=100)})\n",
    "test_df.head()"
   ]
  },
  {
   "cell_type": "code",
   "execution_count": 4,
   "metadata": {},
   "outputs": [],
   "source": [
    "from ds_toolkit.io import write_file, read_file"
   ]
  },
  {
   "cell_type": "code",
   "execution_count": 5,
   "metadata": {},
   "outputs": [
    {
     "name": "stdout",
     "output_type": "stream",
     "text": [
      "data/06/testfile1 written to data/06/testfile1.h5\n"
     ]
    }
   ],
   "source": [
    "write_file(test_df,'data/06/testfile1.h5',key='test_df')"
   ]
  },
  {
   "cell_type": "code",
   "execution_count": 6,
   "metadata": {},
   "outputs": [
    {
     "name": "stdout",
     "output_type": "stream",
     "text": [
      "Reading data/06/testfile1\n",
      "The filetype is: .h5\n"
     ]
    }
   ],
   "source": [
    "read_df = read_file('data/06/testfile1.h5')"
   ]
  },
  {
   "cell_type": "code",
   "execution_count": 7,
   "metadata": {},
   "outputs": [
    {
     "data": {
      "text/html": [
       "<div>\n",
       "<style scoped>\n",
       "    .dataframe tbody tr th:only-of-type {\n",
       "        vertical-align: middle;\n",
       "    }\n",
       "\n",
       "    .dataframe tbody tr th {\n",
       "        vertical-align: top;\n",
       "    }\n",
       "\n",
       "    .dataframe thead th {\n",
       "        text-align: right;\n",
       "    }\n",
       "</style>\n",
       "<table border=\"1\" class=\"dataframe\">\n",
       "  <thead>\n",
       "    <tr style=\"text-align: right;\">\n",
       "      <th></th>\n",
       "      <th>A</th>\n",
       "      <th>B</th>\n",
       "    </tr>\n",
       "  </thead>\n",
       "  <tbody>\n",
       "    <tr>\n",
       "      <th>0</th>\n",
       "      <td>24</td>\n",
       "      <td>0.889885</td>\n",
       "    </tr>\n",
       "    <tr>\n",
       "      <th>1</th>\n",
       "      <td>62</td>\n",
       "      <td>0.538329</td>\n",
       "    </tr>\n",
       "    <tr>\n",
       "      <th>2</th>\n",
       "      <td>93</td>\n",
       "      <td>0.766726</td>\n",
       "    </tr>\n",
       "    <tr>\n",
       "      <th>3</th>\n",
       "      <td>40</td>\n",
       "      <td>0.460230</td>\n",
       "    </tr>\n",
       "    <tr>\n",
       "      <th>4</th>\n",
       "      <td>90</td>\n",
       "      <td>0.667329</td>\n",
       "    </tr>\n",
       "  </tbody>\n",
       "</table>\n",
       "</div>"
      ],
      "text/plain": [
       "    A         B\n",
       "0  24  0.889885\n",
       "1  62  0.538329\n",
       "2  93  0.766726\n",
       "3  40  0.460230\n",
       "4  90  0.667329"
      ]
     },
     "execution_count": 7,
     "metadata": {},
     "output_type": "execute_result"
    }
   ],
   "source": [
    "read_df.head()"
   ]
  },
  {
   "cell_type": "markdown",
   "metadata": {},
   "source": [
    "You can check if two dataframes are equal with the pandas.util.testing module.\n",
    "\n",
    "Assert statements are supposed to interrupt the kernel if the condition is not True.\n",
    "This is the base for writing testing scripts.\n",
    "\n",
    "Build a test_io.py script in the tests directory. \n",
    "The test_io.py can be called using ```pytest test_io.py```.\n",
    "Another possibility if to use ```tox```, which is natively built into the cookiecutter package we chose.\n",
    "Tox automates testing for different environments and versions of python.\n",
    "Tox does struggle with Anaconda however, so you can ```pip install tox-conda``` and alter the tox.ini file to fit your needs.\n",
    "\n",
    "You can use a self generated DataFrame that you write, read and then assert equality for testing purposes.\n",
    "Another possibility is to use a higher level testing framework like ```hypothesis``` . https://hypothesis.readthedocs.io/en/latest/\n",
    "This might however be tricky depending on your python installation and might require some more crafting in the ```tox.ini```.\n",
    "Also make sure that the imported packages are in the ```requirements_dev.txt```"
   ]
  },
  {
   "cell_type": "code",
   "execution_count": 8,
   "metadata": {},
   "outputs": [],
   "source": [
    "from pandas.util.testing import assert_frame_equal\n",
    "\n",
    "assert_frame_equal(test_df, read_df)"
   ]
  }
 ],
 "metadata": {
  "kernelspec": {
   "display_name": "Python 3 (ipykernel)",
   "language": "python",
   "name": "python3"
  },
  "language_info": {
   "codemirror_mode": {
    "name": "ipython",
    "version": 3
   },
   "file_extension": ".py",
   "mimetype": "text/x-python",
   "name": "python",
   "nbconvert_exporter": "python",
   "pygments_lexer": "ipython3",
   "version": "3.10.6"
  }
 },
 "nbformat": 4,
 "nbformat_minor": 2
}
