{
 "cells": [
  {
   "cell_type": "markdown",
   "metadata": {},
   "source": [
    "# List comprehensions"
   ]
  },
  {
   "cell_type": "markdown",
   "metadata": {},
   "source": [
    "List comprehensions are a powerful tool to rewrite code in a short way. As a rule of thumb, any that can be written in a loop, can also be rewritten with the help of a list comprehension. Let's start with a simple example:"
   ]
  },
  {
   "cell_type": "code",
   "execution_count": 1,
   "metadata": {},
   "outputs": [
    {
     "name": "stdout",
     "output_type": "stream",
     "text": [
      "[0, 1, 4, 9, 16, 25, 36]\n"
     ]
    }
   ],
   "source": [
    "empty_list = []\n",
    "\n",
    "for i in range (0,7):\n",
    "    empty_list.append(i**2)\n",
    "print(empty_list)"
   ]
  },
  {
   "cell_type": "code",
   "execution_count": 2,
   "metadata": {
    "scrolled": true
   },
   "outputs": [
    {
     "name": "stdout",
     "output_type": "stream",
     "text": [
      "[0, 1, 4, 9, 16, 25, 36]\n"
     ]
    }
   ],
   "source": [
    "## same effect with list comprehensions \n",
    "empty_list_2 = [x**2 for x in range(0,7)]\n",
    "print(empty_list_2)"
   ]
  },
  {
   "cell_type": "markdown",
   "metadata": {},
   "source": [
    "The basic syntax explained: __x**2__ holds the effect of what should happen __for x__ regarding the chosen elements, in this case the elements __in range(0,7)__.<br>\n",
    "Let's look at another example with strings:"
   ]
  },
  {
   "cell_type": "code",
   "execution_count": 3,
   "metadata": {},
   "outputs": [
    {
     "name": "stdout",
     "output_type": "stream",
     "text": [
      "['this', 'is', 'the', 'string', 'we', 'want', 'to', 'work', 'with']\n"
     ]
    }
   ],
   "source": [
    "s = 'this is the string we want to work with'\n",
    "l = s.split(' ')\n",
    "print (l)"
   ]
  },
  {
   "cell_type": "code",
   "execution_count": 8,
   "metadata": {},
   "outputs": [
    {
     "name": "stdout",
     "output_type": "stream",
     "text": [
      "['THIS', 'IS', 'THE', 'STRING', 'WE', 'WANT', 'TO', 'WORK', 'WITH']\n"
     ]
    }
   ],
   "source": [
    "new_list = []\n",
    "for elem in l:\n",
    "    new_elem = elem.upper()\n",
    "    new_list.append(new_elem)\n",
    "print(new_list)"
   ]
  },
  {
   "cell_type": "code",
   "execution_count": 9,
   "metadata": {},
   "outputs": [
    {
     "name": "stdout",
     "output_type": "stream",
     "text": [
      "['THIS', 'IS', 'THE', 'STRING', 'WE', 'WANT', 'TO', 'WORK', 'WITH']\n"
     ]
    }
   ],
   "source": [
    "##with list comprehension\n",
    "another_list = [s.upper() for s in l]\n",
    "print(another_list)"
   ]
  },
  {
   "cell_type": "markdown",
   "metadata": {},
   "source": [
    "List comprehensions can be modified with if statements:"
   ]
  },
  {
   "cell_type": "code",
   "execution_count": 11,
   "metadata": {},
   "outputs": [
    {
     "name": "stdout",
     "output_type": "stream",
     "text": [
      "['WE', 'WANT', 'WORK', 'WITH']\n"
     ]
    }
   ],
   "source": [
    "another_list = [s.upper() for s in l if s[0] == 'w']\n",
    "print(another_list)"
   ]
  },
  {
   "cell_type": "markdown",
   "metadata": {},
   "source": [
    "What we achieved was a selection of elements, i.e. we chose to include and capitalize words only if the original word starts with a __*w*__."
   ]
  },
  {
   "cell_type": "code",
   "execution_count": 29,
   "metadata": {},
   "outputs": [
    {
     "name": "stdout",
     "output_type": "stream",
     "text": [
      "['A', 'B', 'C', 'AA', 'BB', 'CC', 'AAA', 'BBB', 'CCC']\n"
     ]
    }
   ],
   "source": [
    "a = [['A', 'B', 'C'], ['AA', 'BB', 'CC'], ['AAA', 'BBB', 'CCC'],]\n",
    "\n",
    "res = []\n",
    "for e1 in a:\n",
    "    for e2 in e1:\n",
    "        res.append(e2)\n",
    "print (res)"
   ]
  },
  {
   "cell_type": "code",
   "execution_count": 28,
   "metadata": {},
   "outputs": [
    {
     "data": {
      "text/plain": [
       "['A', 'B', 'C', 'AA', 'BB', 'CC', 'AAA', 'BBB', 'CCC']"
      ]
     },
     "execution_count": 28,
     "metadata": {},
     "output_type": "execute_result"
    }
   ],
   "source": [
    "res_2 = [x for e1 in a for x in e1]\n",
    "res_2"
   ]
  },
  {
   "cell_type": "markdown",
   "metadata": {},
   "source": [
    "Now this is difficult to read. If you transfer nested loops into nested list comprehensions, remember to keep the order intact. This means, the first comprehension is the outer loop, the second comprehension is the inner loop."
   ]
  },
  {
   "cell_type": "markdown",
   "metadata": {},
   "source": [
    "## List comprehensions for sets and dictionaries"
   ]
  },
  {
   "cell_type": "code",
   "execution_count": 34,
   "metadata": {},
   "outputs": [
    {
     "name": "stdout",
     "output_type": "stream",
     "text": [
      "{'l', 'r', 'w', 'o', 's', 'n', 'd', 'i', 'f', 'a'}\n"
     ]
    }
   ],
   "source": [
    "strlist = 'data science is a nice field of research dealing with lots of data samples'.split(' ')\n",
    "newset = {s[0] for s in strlist} # if you want to create sets, use the curly brackets\n",
    "print(newset)"
   ]
  },
  {
   "cell_type": "code",
   "execution_count": 37,
   "metadata": {},
   "outputs": [
    {
     "name": "stdout",
     "output_type": "stream",
     "text": [
      "{'a': 1, 'n': 3, 'l': 6, 'i': 9, 'w': 5, 'o': 2, 'd': 9}\n"
     ]
    }
   ],
   "source": [
    "strlist_2 = 'a new list including words of different length'.split(' ')\n",
    "newdict = {s[0]:len(s) for s in strlist_2} # dictionaries are created as expected, using key:values and the {}\n",
    "print(newdict)"
   ]
  },
  {
   "cell_type": "markdown",
   "metadata": {},
   "source": [
    "## Advanced list comprehensions"
   ]
  },
  {
   "cell_type": "markdown",
   "metadata": {},
   "source": [
    "Understanding list comprehensions can be tricky sometimes, consider this example:"
   ]
  },
  {
   "cell_type": "code",
   "execution_count": 44,
   "metadata": {},
   "outputs": [],
   "source": [
    "res = [x for i in range(2) for x in range(10) if i == x%2]"
   ]
  },
  {
   "cell_type": "code",
   "execution_count": 45,
   "metadata": {},
   "outputs": [
    {
     "name": "stdout",
     "output_type": "stream",
     "text": [
      "[0, 2, 4, 6, 8, 1, 3, 5, 7, 9]\n"
     ]
    }
   ],
   "source": [
    "print(res) # we have to print the output, to get an idea of this nested comprehension"
   ]
  },
  {
   "cell_type": "markdown",
   "metadata": {},
   "source": [
    "Try to understand how the output is created, we have, in fact, two loops here.<br>\n",
    "Any list comprehension can be rewritten into loops, let's try this:"
   ]
  },
  {
   "cell_type": "code",
   "execution_count": 46,
   "metadata": {},
   "outputs": [
    {
     "name": "stdout",
     "output_type": "stream",
     "text": [
      "[0, 2, 4, 6, 8, 1, 3, 5, 7, 9]\n"
     ]
    }
   ],
   "source": [
    "res = []\n",
    "for x in range(2):\n",
    "    for y in range(10):\n",
    "        if y % 2 == x:\n",
    "            res.append(y)\n",
    "print(res) # this is much more readable!"
   ]
  },
  {
   "cell_type": "markdown",
   "metadata": {},
   "source": [
    "As you can see, this leads to the same output as the list comprehension above. <br>\n",
    "Hint: Look at the similarity between the nested loops and the syntax in the list comprehension: The chronology of the outer and the inner loop must be maintained, followed be the if-statement."
   ]
  },
  {
   "cell_type": "markdown",
   "metadata": {},
   "source": [
    "### Practice"
   ]
  },
  {
   "cell_type": "code",
   "execution_count": null,
   "metadata": {},
   "outputs": [],
   "source": [
    "text = ''"
   ]
  }
 ],
 "metadata": {
  "kernelspec": {
   "display_name": "Python 3 (ipykernel)",
   "language": "python",
   "name": "python3"
  },
  "language_info": {
   "codemirror_mode": {
    "name": "ipython",
    "version": 3
   },
   "file_extension": ".py",
   "mimetype": "text/x-python",
   "name": "python",
   "nbconvert_exporter": "python",
   "pygments_lexer": "ipython3",
   "version": "3.10.6"
  }
 },
 "nbformat": 4,
 "nbformat_minor": 2
}
