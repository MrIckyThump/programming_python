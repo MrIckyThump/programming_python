{
 "cells": [
  {
   "cell_type": "code",
   "execution_count": 1,
   "metadata": {},
   "outputs": [],
   "source": [
    "def studiBenachrichtigen():\n",
    "    print('studi function called')\n",
    "    #return 1"
   ]
  },
  {
   "cell_type": "code",
   "execution_count": 2,
   "metadata": {},
   "outputs": [
    {
     "name": "stdout",
     "output_type": "stream",
     "text": [
      "studi function called\n"
     ]
    }
   ],
   "source": [
    "studiBenachrichtigen()"
   ]
  },
  {
   "cell_type": "code",
   "execution_count": 3,
   "metadata": {},
   "outputs": [
    {
     "name": "stdout",
     "output_type": "stream",
     "text": [
      "studi function called\n"
     ]
    }
   ],
   "source": [
    "var = studiBenachrichtigen()"
   ]
  },
  {
   "cell_type": "code",
   "execution_count": 4,
   "metadata": {},
   "outputs": [
    {
     "name": "stdout",
     "output_type": "stream",
     "text": [
      "None\n"
     ]
    }
   ],
   "source": [
    "print(var)"
   ]
  },
  {
   "cell_type": "code",
   "execution_count": 31,
   "metadata": {},
   "outputs": [],
   "source": [
    "# rufe Funktion in Funktion auf\n",
    "# bearbeite Liste von Studis, die eine nachricht erhalten sollen\n",
    "\n",
    "def compareList(course, sList):\n",
    "    #if name in sList: YES\n",
    "    \n",
    "    foundStudents = []\n",
    "    \n",
    "    for courseStudent in course:\n",
    "        for targetStudent in sList:\n",
    "            if courseStudent == targetStudent:\n",
    "                foundStudents.append(courseStudent)\n",
    "    \n",
    "    return foundStudents\n",
    "\n",
    "def studiBenachrichtigen(message, allStudents, courseStudents=None):\n",
    "\n",
    "    #print('nachricht an Studi: ' + message)\n",
    "    \n",
    "    foundStudents = None\n",
    "    foundStudents = compareList(courseStudents, allStudents)\n",
    "    \n",
    "    if len(foundStudents) > 0:\n",
    "        for s in foundStudents:\n",
    "            print( s + ' : ' + message)\n",
    "        \n",
    "    else:\n",
    "        print('no students found')\n",
    "        #else:\n",
    "        #    print('kein Student gefunden')\n",
    "\n",
    "    \n",
    "    #return 1"
   ]
  },
  {
   "cell_type": "markdown",
   "metadata": {},
   "source": [
    "- function call\n",
    "- function in function\n",
    "- default parameter\n",
    "- list iterations\n",
    "- loops with functions with conditionals"
   ]
  },
  {
   "cell_type": "code",
   "execution_count": 32,
   "metadata": {},
   "outputs": [],
   "source": [
    "studis = ['Anna', 'Alex', 'Sebastian', 'Thomas', 'Franka']"
   ]
  },
  {
   "cell_type": "code",
   "execution_count": 35,
   "metadata": {},
   "outputs": [
    {
     "name": "stdout",
     "output_type": "stream",
     "text": [
      "Anna : Hallo Teilnehmer des Python Kurses! \n",
      "Alex : Hallo Teilnehmer des Python Kurses! \n"
     ]
    }
   ],
   "source": [
    "studiBenachrichtigen('Hallo Teilnehmer des Python Kurses! ', studis, ['Anna', 'Alex', 'Erika'])"
   ]
  },
  {
   "cell_type": "markdown",
   "metadata": {},
   "source": [
    "## List comprehension examples\n"
   ]
  },
  {
   "cell_type": "code",
   "execution_count": 40,
   "metadata": {},
   "outputs": [
    {
     "name": "stdout",
     "output_type": "stream",
     "text": [
      "['Anna', 'Alex', 'tian', 'omas', 'anka']\n"
     ]
    }
   ],
   "source": [
    "newStudisLastLetters = [s[-4:] for s in studis]\n",
    "print(newStudisLastLetters)"
   ]
  },
  {
   "cell_type": "code",
   "execution_count": 43,
   "metadata": {},
   "outputs": [
    {
     "name": "stdout",
     "output_type": "stream",
     "text": [
      "['anna', 'alex', 'sebastian', 'thomas', 'franka']\n"
     ]
    }
   ],
   "source": [
    "newStudisUncapitalized = [s.lower() for s in studis]\n",
    "print(newStudisUncapitalized)"
   ]
  },
  {
   "cell_type": "code",
   "execution_count": 46,
   "metadata": {},
   "outputs": [
    {
     "name": "stdout",
     "output_type": "stream",
     "text": [
      "['anna', 'alex']\n"
     ]
    }
   ],
   "source": [
    "#all students starting with 'a'\n",
    "newStudisUncapitalizedIfCondition = [s.lower() for s in studis if s.lower()[0] == 'a']\n",
    "print(newStudisUncapitalizedIfCondition)"
   ]
  },
  {
   "cell_type": "code",
   "execution_count": 47,
   "metadata": {},
   "outputs": [
    {
     "name": "stdout",
     "output_type": "stream",
     "text": [
      "15\n"
     ]
    }
   ],
   "source": [
    "f = lambda a,b : (a-b)*a# a,b is the argument list\n",
    "print (f(5,2))"
   ]
  },
  {
   "cell_type": "code",
   "execution_count": null,
   "metadata": {},
   "outputs": [],
   "source": []
  }
 ],
 "metadata": {
  "kernelspec": {
   "display_name": "Python 3 (ipykernel)",
   "language": "python",
   "name": "python3"
  },
  "language_info": {
   "codemirror_mode": {
    "name": "ipython",
    "version": 3
   },
   "file_extension": ".py",
   "mimetype": "text/x-python",
   "name": "python",
   "nbconvert_exporter": "python",
   "pygments_lexer": "ipython3",
   "version": "3.10.6"
  }
 },
 "nbformat": 4,
 "nbformat_minor": 2
}
