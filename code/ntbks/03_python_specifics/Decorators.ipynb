{
 "cells": [
  {
   "cell_type": "markdown",
   "metadata": {},
   "source": [
    "## Decorator | An introduction"
   ]
  },
  {
   "cell_type": "markdown",
   "metadata": {},
   "source": [
    "### *args in Python"
   ]
  },
  {
   "cell_type": "markdown",
   "metadata": {},
   "source": [
    "Let's recall, whart we know about arguments in Python."
   ]
  },
  {
   "cell_type": "markdown",
   "metadata": {},
   "source": [
    "Instead of passing an endless number of arguments, we can make use of  __\\*args__ in Python."
   ]
  },
  {
   "cell_type": "code",
   "execution_count": 1,
   "metadata": {},
   "outputs": [],
   "source": [
    "def myConcatenator(s1, s2, s3, s4):\n",
    "    return s1 + s2 + s3 + s4"
   ]
  },
  {
   "cell_type": "code",
   "execution_count": 2,
   "metadata": {},
   "outputs": [
    {
     "name": "stdout",
     "output_type": "stream",
     "text": [
      "this that here there!\n"
     ]
    }
   ],
   "source": [
    "print(myConcatenator('this ', 'that ', 'here ', 'there!'))"
   ]
  },
  {
   "cell_type": "code",
   "execution_count": 3,
   "metadata": {},
   "outputs": [
    {
     "name": "stdout",
     "output_type": "stream",
     "text": [
      "this that here there!\n"
     ]
    }
   ],
   "source": [
    "#now this function can take any number of parameters you want, as long as it fits the semantics inside!\n",
    "def myConcatenator(*args):\n",
    "    res = ''\n",
    "    for a in args:\n",
    "        res += a\n",
    "    return res\n",
    "print(myConcatenator('this ', 'that ', 'here ', 'there!'))"
   ]
  },
  {
   "cell_type": "markdown",
   "metadata": {},
   "source": [
    "<div class=\"alert alert-block alert-info\">\n",
    "    <b>Hint:</b> It is not about the <i>args</i> in *args - we can call it anything. It's the <b>*</b> that matters --> <b>*argumentList</b> would also be valid!\n",
    "</div>"
   ]
  },
  {
   "cell_type": "markdown",
   "metadata": {},
   "source": [
    "### **kwargs in Python"
   ]
  },
  {
   "cell_type": "code",
   "execution_count": 4,
   "metadata": {},
   "outputs": [
    {
     "name": "stdout",
     "output_type": "stream",
     "text": [
      "result --> key a and value 20\n",
      "result --> key b and value 100\n",
      "result --> key c and value string\n",
      "None\n",
      "result --> key var1 and value 1000\n",
      "result --> key var2 and value 1500\n",
      "None\n"
     ]
    }
   ],
   "source": [
    "keywords = {'a' : 20, 'b': 100, 'c': 'string'}\n",
    "\n",
    "def myFunc(**kwargs):\n",
    "    for key in kwargs:\n",
    "        print(key)\n",
    "\n",
    "\n",
    "def myFunc2(**kwargs):\n",
    "    for key,v in kwargs.items():\n",
    "        print('result --> key {} and value {}'.format(key, v))        \n",
    "        \n",
    "#print(myFunc(**keywords))\n",
    "        \n",
    "print(myFunc2(**keywords))\n",
    "print(myFunc2(var1=1000, var2=1500))"
   ]
  },
  {
   "cell_type": "markdown",
   "metadata": {},
   "source": [
    "In the second example the variables were never defined as the method's arguments, still it is possible to pass them along!"
   ]
  },
  {
   "cell_type": "markdown",
   "metadata": {},
   "source": [
    "## Decorators in Python\n"
   ]
  },
  {
   "cell_type": "markdown",
   "metadata": {},
   "source": [
    "In Python, functions are [first-class citizens](https://en.wikipedia.org/wiki/First-class_citizen). This means you can:\n",
    "\n",
    "-   pass them as arguments\n",
    "-   return them from functions\n",
    "-   modify functions\n",
    "-   assign them to variables (we have seen that!)\n",
    "\n",
    "Functions are objects, therefore we can place them in variables, and call them from there. Let's see what happens when we do this:"
   ]
  },
  {
   "cell_type": "code",
   "execution_count": 5,
   "metadata": {},
   "outputs": [
    {
     "data": {
      "text/plain": [
       "'THIS'"
      ]
     },
     "execution_count": 5,
     "metadata": {},
     "output_type": "execute_result"
    }
   ],
   "source": [
    "def capitalize():\n",
    "    \n",
    "    def myString():\n",
    "        return \"THIS\"\n",
    "    return myString\n",
    "\n",
    "cap = capitalize()\n",
    "cap()#calling a function from a variable"
   ]
  },
  {
   "cell_type": "markdown",
   "metadata": {},
   "source": [
    "### Putting it together into a Decorator"
   ]
  },
  {
   "cell_type": "code",
   "execution_count": 6,
   "metadata": {},
   "outputs": [
    {
     "data": {
      "text/plain": [
       "'thi'"
      ]
     },
     "execution_count": 6,
     "metadata": {},
     "output_type": "execute_result"
    }
   ],
   "source": [
    "def shortener_decorator(func):#this is my wrapper\n",
    "    \n",
    "    def wrapper():\n",
    "        f = func()#write the result of func into a var\n",
    "        return f[:-1]#shorten\n",
    "    return wrapper\n",
    "\n",
    "\n",
    "def retString():#this function will be decorated!\n",
    "    return 'this'\n",
    "\n",
    "short = shortener_decorator(retString)\n",
    "short()"
   ]
  },
  {
   "cell_type": "code",
   "execution_count": 7,
   "metadata": {},
   "outputs": [
    {
     "data": {
      "text/plain": [
       "'thisandmor'"
      ]
     },
     "execution_count": 7,
     "metadata": {},
     "output_type": "execute_result"
    }
   ],
   "source": [
    "#all of the above much easier as follows here:\n",
    "@shortener_decorator\n",
    "def retString2():\n",
    "    return 'thisandmore'\n",
    "\n",
    "retString2()"
   ]
  },
  {
   "cell_type": "code",
   "execution_count": 10,
   "metadata": {},
   "outputs": [
    {
     "name": "stdout",
     "output_type": "stream",
     "text": [
      "wrapper\n"
     ]
    }
   ],
   "source": [
    "print(retString2.__name__)"
   ]
  },
  {
   "cell_type": "markdown",
   "metadata": {},
   "source": [
    "Combining multiple Decorators together:"
   ]
  },
  {
   "cell_type": "code",
   "execution_count": 10,
   "metadata": {},
   "outputs": [],
   "source": [
    "def split_decorator(function):\n",
    "    def wrapper():\n",
    "        func = function()\n",
    "        split = func.split()\n",
    "        return split\n",
    "\n",
    "    return wrapper"
   ]
  },
  {
   "cell_type": "code",
   "execution_count": 11,
   "metadata": {},
   "outputs": [],
   "source": [
    "@shortener_decorator\n",
    "\n",
    "@split_decorator\n",
    "def thisIsMyFancyCombination():\n",
    "    return 'a whole sentence for testing'"
   ]
  },
  {
   "cell_type": "code",
   "execution_count": 12,
   "metadata": {},
   "outputs": [
    {
     "data": {
      "text/plain": [
       "['a', 'whole', 'sentence', 'for']"
      ]
     },
     "execution_count": 12,
     "metadata": {},
     "output_type": "execute_result"
    }
   ],
   "source": [
    "thisIsMyFancyCombination()"
   ]
  },
  {
   "cell_type": "markdown",
   "metadata": {},
   "source": [
    "#### Question: How do we change the above example of combination so that the last element of the split string is removed?"
   ]
  },
  {
   "cell_type": "markdown",
   "metadata": {},
   "source": [
    "### Decorators in Python | Example\n"
   ]
  },
  {
   "cell_type": "code",
   "execution_count": 70,
   "metadata": {},
   "outputs": [],
   "source": [
    "def mathFunc(a,b):\n",
    "    return a+b\n",
    "    "
   ]
  },
  {
   "cell_type": "code",
   "execution_count": 14,
   "metadata": {
    "scrolled": true
   },
   "outputs": [
    {
     "name": "stdout",
     "output_type": "stream",
     "text": [
      "math starts\n",
      "ending...  0.0 s\n"
     ]
    }
   ],
   "source": [
    "import time\n",
    "def mathFunc(a,b):\n",
    "    print(\"math starts\")\n",
    "    start = time.time()\n",
    "    res = a+b\n",
    "    print(\"ending... \",time.time()-start, \"s\")\n",
    "    return res\n",
    "\n",
    "o = mathFunc(4,5)"
   ]
  },
  {
   "cell_type": "markdown",
   "metadata": {},
   "source": [
    "We have defined a way to add statements before and after the math is done. This can be improved with Decorators."
   ]
  },
  {
   "cell_type": "code",
   "execution_count": 16,
   "metadata": {},
   "outputs": [],
   "source": [
    "from functools import wraps\n",
    "\n",
    "#this timer will wrap around the function\n",
    "def timer(f):\n",
    "    @wraps(f)\n",
    "    #this is myWrapper\n",
    "    def myWrapper(a,b):\n",
    "        print(f\"{f.__name__!r} begins\")\n",
    "        start_time = time.time()\n",
    "        result = f(a,b)\n",
    "        print(f\"{f.__name__!r} ends in {time.time()-start_time}  secs\")\n",
    "        return result\n",
    "    return myWrapper"
   ]
  },
  {
   "cell_type": "code",
   "execution_count": 17,
   "metadata": {},
   "outputs": [],
   "source": [
    "@timer\n",
    "def mathFunc2(a,b):\n",
    "    return a+b"
   ]
  },
  {
   "cell_type": "code",
   "execution_count": 18,
   "metadata": {},
   "outputs": [
    {
     "name": "stdout",
     "output_type": "stream",
     "text": [
      "mathFunc2\n",
      "'mathFunc2' begins\n",
      "'mathFunc2' ends in 0.0  secs\n",
      "25\n"
     ]
    }
   ],
   "source": [
    "print(mathFunc2.__name__)\n",
    "print(mathFunc2(10,15))\n"
   ]
  },
  {
   "cell_type": "markdown",
   "metadata": {},
   "source": [
    "Lets sum this up:\n",
    "-   Decorators are wrappers which allow you to wrap code around functions \n",
    "-   Example shows the usage of a timer to track function length\n",
    "-   use the __wraps__ module from __functools__ \n",
    "-   follow the sytanx from the example above along with the __@notation__"
   ]
  },
  {
   "cell_type": "markdown",
   "metadata": {},
   "source": [
    "### Extending wrappers with arguments"
   ]
  },
  {
   "cell_type": "code",
   "execution_count": 82,
   "metadata": {},
   "outputs": [],
   "source": [
    "def timer2(f):\n",
    "    @wraps(f)\n",
    "    \n",
    "    #this is myWrapper\n",
    "    def myWrapper(*args, **kwargs):\n",
    "        print(f\"{f.__name__!r} begins\")\n",
    "        start_time = time.time()\n",
    "        result = f(*args, **kwargs)\n",
    "        print(f\"{f.__name__!r} ends in {time.time()-start_time}  secs\")\n",
    "        return result\n",
    "    return myWrapper"
   ]
  },
  {
   "cell_type": "code",
   "execution_count": 83,
   "metadata": {},
   "outputs": [
    {
     "name": "stdout",
     "output_type": "stream",
     "text": [
      "'myBigMathFunction' begins\n",
      "this is a long string\n",
      "'myBigMathFunction' ends in 2.5033950805664062e-05  secs\n"
     ]
    }
   ],
   "source": [
    "@timer2\n",
    "def myBigMathFunction(*args, **kwargs):\n",
    "    s = ''\n",
    "    for arg in args:\n",
    "        s += arg\n",
    "    print(s)\n",
    "        \n",
    "myBigMathFunction('this ', 'is ', 'a ', 'long ', 'string')"
   ]
  }
 ],
 "metadata": {
  "kernelspec": {
   "display_name": "Python 3 (ipykernel)",
   "language": "python",
   "name": "python3"
  },
  "language_info": {
   "codemirror_mode": {
    "name": "ipython",
    "version": 3
   },
   "file_extension": ".py",
   "mimetype": "text/x-python",
   "name": "python",
   "nbconvert_exporter": "python",
   "pygments_lexer": "ipython3",
   "version": "3.10.6"
  }
 },
 "nbformat": 4,
 "nbformat_minor": 2
}
