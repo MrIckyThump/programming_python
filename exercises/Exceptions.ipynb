{
 "cells": [
  {
   "cell_type": "markdown",
   "metadata": {},
   "source": [
    "## Handling Exceptions\n"
   ]
  },
  {
   "cell_type": "code",
   "execution_count": null,
   "metadata": {},
   "outputs": [],
   "source": [
    "#handle this problem by implementing an exception with try/except\n",
    "x = 10\n",
    "y = 0\n",
    "\n",
    "a = x / y\n"
   ]
  },
  {
   "cell_type": "code",
   "execution_count": null,
   "metadata": {},
   "outputs": [],
   "source": [
    "#define r1, r2 so that you run over the boundaries of the list - this would happen at runtime\n",
    "#how can you make a runtime access to this list safe?\n",
    "\n",
    "l = [1,2,3,4,5]\n",
    "\n",
    "r1 = 0\n",
    "r2 = 0\n",
    "\n",
    "for i in range(r1,r2):\n",
    "    print(l[i])"
   ]
  },
  {
   "cell_type": "code",
   "execution_count": null,
   "metadata": {},
   "outputs": [],
   "source": [
    "# define a function which does the following:\n",
    "# it receives three parameters a,b,c as arguments, all can be assumed to be int\n",
    "# it calculates 2 arithmetic operations: \n",
    "# x = a + b + c\n",
    "# y = a - c\n",
    "# it calculates z = x / y and returns z\n",
    "# print the result z before returning in an else statement of a try/except block\n",
    "\n",
    "#something like this:\n",
    "\n",
    "try:\n",
    "    _\n",
    "except:\n",
    "    _\n",
    "else:\n",
    "    _"
   ]
  },
  {
   "cell_type": "code",
   "execution_count": null,
   "metadata": {},
   "outputs": [],
   "source": [
    "# have a look at the Python documentation here: https://docs.python.org/3/library/exceptions.html\n",
    "# there is a list of errors which is built-in\n",
    "# create a dummy dictionary with key value pairs\n",
    "# try to access all keys in this dictionary in a for-loop\n",
    "# use try/except to find a KeyError\n",
    "# make sure to test all cases!"
   ]
  },
  {
   "cell_type": "code",
   "execution_count": null,
   "metadata": {},
   "outputs": [],
   "source": [
    "#change some of the examples above to catch the name of the exception\n",
    "#print the exception\n",
    "#use this code: \n",
    "except Exception as e: "
   ]
  },
  {
   "cell_type": "code",
   "execution_count": null,
   "metadata": {},
   "outputs": [],
   "source": []
  }
 ],
 "metadata": {
  "kernelspec": {
   "display_name": "Python 3 (ipykernel)",
   "language": "python",
   "name": "python3"
  },
  "language_info": {
   "codemirror_mode": {
    "name": "ipython",
    "version": 3
   },
   "file_extension": ".py",
   "mimetype": "text/x-python",
   "name": "python",
   "nbconvert_exporter": "python",
   "pygments_lexer": "ipython3",
   "version": "3.10.6"
  }
 },
 "nbformat": 4,
 "nbformat_minor": 2
}
